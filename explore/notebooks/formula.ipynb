{
 "cells": [
  {
   "cell_type": "code",
   "execution_count": 20,
   "metadata": {},
   "outputs": [],
   "source": [
    "def reward(previous: dict, addition: float) -> float:\n",
    "    \"\"\"\n",
    "    previous is a dictionary {'units': 1, 'reward': 1, 'total_reward': 2, 'total_credits': 2}\n",
    "    addition is an float, how much people are selling to the index\n",
    "    returns the reward to balance the concerns\n",
    "    \"\"\"\n",
    "    \n",
    "    def backing(units, value):\n",
    "        return units * value\n",
    "\n",
    "    def change_credits(addition, reward):\n",
    "        return addition * reward\n",
    "    \n",
    "    def new_credits(old_credits, addition, reward):\n",
    "        return old_credits + change_credits(addition, reward)\n",
    "    \n",
    "    \n",
    "    \n",
    "    from types import SimpleNamespace\n",
    "    previous = SimpleNamespace(**preivous)\n",
    "    previous.backing = backing(previous.units, previous.reward)\n",
    "    previous.new_credits = new_credits(previous.total_credits, addition, previous.reward)\n",
    "    "
   ]
  },
  {
   "cell_type": "code",
   "execution_count": 32,
   "metadata": {},
   "outputs": [],
   "source": [
    "preivous = {'units': 1, 'reward': 1, 'total_reward': 2, 'total_credits': 2}\n",
    "addition = 2"
   ]
  },
  {
   "cell_type": "code",
   "execution_count": 33,
   "metadata": {},
   "outputs": [],
   "source": [
    "from types import SimpleNamespace"
   ]
  },
  {
   "cell_type": "code",
   "execution_count": 34,
   "metadata": {},
   "outputs": [],
   "source": [
    "previous = SimpleNamespace(**preivous)"
   ]
  },
  {
   "cell_type": "code",
   "execution_count": 35,
   "metadata": {},
   "outputs": [
    {
     "data": {
      "text/plain": [
       "namespace(units=1, reward=1, total_reward=2, total_credits=2)"
      ]
     },
     "execution_count": 35,
     "metadata": {},
     "output_type": "execute_result"
    }
   ],
   "source": [
    "previous"
   ]
  },
  {
   "cell_type": "code",
   "execution_count": 36,
   "metadata": {},
   "outputs": [],
   "source": [
    "previous.backing = previous.units * previous.reward"
   ]
  },
  {
   "cell_type": "code",
   "execution_count": 37,
   "metadata": {},
   "outputs": [],
   "source": [
    "previous.change_credits = (addition * previous.reward)"
   ]
  },
  {
   "cell_type": "code",
   "execution_count": 38,
   "metadata": {},
   "outputs": [],
   "source": [
    "previous.new_credits = previous.total_credits + (addition * previous.reward)"
   ]
  },
  {
   "cell_type": "code",
   "execution_count": 39,
   "metadata": {},
   "outputs": [
    {
     "data": {
      "text/plain": [
       "namespace(units=1,\n",
       "          reward=1,\n",
       "          total_reward=2,\n",
       "          total_credits=2,\n",
       "          backing=1,\n",
       "          change_credits=2,\n",
       "          new_credits=4)"
      ]
     },
     "execution_count": 39,
     "metadata": {},
     "output_type": "execute_result"
    }
   ],
   "source": [
    "previous"
   ]
  },
  {
   "cell_type": "code",
   "execution_count": 40,
   "metadata": {},
   "outputs": [
    {
     "data": {
      "text/plain": [
       "4"
      ]
     },
     "execution_count": 40,
     "metadata": {},
     "output_type": "execute_result"
    }
   ],
   "source": [
    "previous.new_credits*previous.reward"
   ]
  },
  {
   "cell_type": "code",
   "execution_count": null,
   "metadata": {},
   "outputs": [],
   "source": []
  }
 ],
 "metadata": {
  "kernelspec": {
   "display_name": "Python 3",
   "language": "python",
   "name": "python3"
  },
  "language_info": {
   "codemirror_mode": {
    "name": "ipython",
    "version": 3
   },
   "file_extension": ".py",
   "mimetype": "text/x-python",
   "name": "python",
   "nbconvert_exporter": "python",
   "pygments_lexer": "ipython3",
   "version": "3.8.4"
  }
 },
 "nbformat": 4,
 "nbformat_minor": 4
}
