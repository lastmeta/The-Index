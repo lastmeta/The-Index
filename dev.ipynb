{
 "cells": [
  {
   "cell_type": "code",
   "execution_count": 1,
   "metadata": {},
   "outputs": [],
   "source": [
    "from index import Index, User"
   ]
  },
  {
   "cell_type": "code",
   "execution_count": 2,
   "metadata": {},
   "outputs": [],
   "source": [
    "users = [\n",
    "    User(credit=1, vote='btc', against=1),\n",
    "    User(credit=2, vote='eth', against=1),\n",
    "    User(credit=3, vote='xmr', against=-1)]\n",
    "assets = {'btc': 1, 'eth': 2, 'xmr': 3}\n",
    "rates = {'btc': 1, 'eth': 1, 'xmr': 1}\n",
    "index = Index(users, assets, rates)"
   ]
  },
  {
   "cell_type": "code",
   "execution_count": 3,
   "metadata": {},
   "outputs": [
    {
     "data": {
      "text/plain": [
       "\n",
       "users   [\n",
       "  credit    1\n",
       "  vote      btc\n",
       "  against   1\n",
       "  trades    {}, \n",
       "  credit    2\n",
       "  vote      eth\n",
       "  against   1\n",
       "  trades    {}, \n",
       "  credit    3\n",
       "  vote      xmr\n",
       "  against   -1\n",
       "  trades    {}]\n",
       "assets  {'btc': 1, 'eth': 2, 'xmr': 3}\n",
       "rates   {'btc': 1, 'eth': 1, 'xmr': 1}\n",
       "mana    {}\n",
       "weight  {}\n",
       "value   {'btc': 1, 'eth': 2, 'xmr': 3}"
      ]
     },
     "execution_count": 3,
     "metadata": {},
     "output_type": "execute_result"
    }
   ],
   "source": [
    "index"
   ]
  },
  {
   "cell_type": "code",
   "execution_count": 4,
   "metadata": {},
   "outputs": [
    {
     "name": "stdout",
     "output_type": "stream",
     "text": [
      "ideal {'btc': 1.1666666666666667, 'eth': 2.6666666666666665, 'xmr': 1.5}\n",
      "{'btc': 1, 'eth': 2, 'xmr': 3} 1\n",
      "{'btc': 1, 'eth': 2, 'xmr': 3} 1\n",
      "{'btc': 1, 'eth': 2, 'xmr': 3} 2\n",
      "{'btc': 1, 'eth': 2, 'xmr': 3} 2\n",
      "{'btc': 1, 'eth': 2, 'xmr': 3} 3\n",
      "{'btc': 1, 'eth': 2, 'xmr': 3} 3\n",
      "trade {'btc': 1, 'eth': 2, 'xmr': 3}\n",
      "self.weight {'btc': 0.16666666666666666, 'eth': 0.3333333333333333, 'xmr': -0.5}\n",
      "\n",
      "btc: 1 + abs(1.1666666666666667 - 1) * 0.16666666666666666 \n",
      "btc: 1 + 0.16666666666666674 * 0.16666666666666666 \n",
      "btc: 1 + 0.02777777777777779\n",
      "btc: 1.0277777777777777\n",
      "\n",
      "eth: 2 + abs(2.6666666666666665 - 2) * 0.3333333333333333 \n",
      "eth: 2 + 0.6666666666666665 * 0.3333333333333333 \n",
      "eth: 2 + 0.22222222222222215\n",
      "eth: 2.2222222222222223\n",
      "\n",
      "xmr: 3 + abs(1.5 - 3) * -0.5 \n",
      "xmr: 3 + 1.5 * -0.5 \n",
      "xmr: 3 + -0.75\n",
      "xmr: 2.25\n",
      "negotiation {'btc': 1.0277777777777777, 'eth': 2.2222222222222223, 'xmr': 2.25}\n",
      "btc rate: 1 v: 1.0277777777777777 count: 1 () 1.0277777777777777\n",
      "eth rate: 1 v: 2.2222222222222223 count: 2 () 1.1111111111111112\n",
      "xmr rate: 1 v: 2.25 count: 3 () 0.75\n"
     ]
    },
    {
     "data": {
      "text/plain": [
       "\n",
       "users   [\n",
       "  credit    1\n",
       "  vote      btc\n",
       "  against   1\n",
       "  trades    {}, \n",
       "  credit    2\n",
       "  vote      eth\n",
       "  against   1\n",
       "  trades    {}, \n",
       "  credit    3\n",
       "  vote      xmr\n",
       "  against   -1\n",
       "  trades    {}]\n",
       "assets  {'btc': 1, 'eth': 2, 'xmr': 3}\n",
       "rates   {'btc': 1.0277777777777777, 'eth': 1.1111111111111112, 'xmr': 0.75}\n",
       "mana    {'btc': 1, 'eth': 2, 'xmr': -3}\n",
       "weight  {'btc': 0.16666666666666666, 'eth': 0.3333333333333333, 'xmr': -0.5}\n",
       "value   {'btc': 1.0277777777777777, 'eth': 2.2222222222222223, 'xmr': 2.25}"
      ]
     },
     "execution_count": 4,
     "metadata": {},
     "output_type": "execute_result"
    }
   ],
   "source": [
    "index.round()\n",
    "index"
   ]
  },
  {
   "cell_type": "code",
   "execution_count": 5,
   "metadata": {},
   "outputs": [
    {
     "data": {
      "text/plain": [
       "{'btc': 1.0277777777777777, 'eth': 1.1111111111111112, 'xmr': 0.75}"
      ]
     },
     "execution_count": 5,
     "metadata": {},
     "output_type": "execute_result"
    }
   ],
   "source": [
    "index.rates"
   ]
  },
  {
   "cell_type": "code",
   "execution_count": 6,
   "metadata": {},
   "outputs": [
    {
     "name": "stdout",
     "output_type": "stream",
     "text": [
      "ideal {'btc': 1.199074074074074, 'eth': 2.962962962962963, 'xmr': 1.125}\n",
      "{'btc': 1, 'eth': 2, 'xmr': 3} 1\n",
      "{'btc': 2, 'eth': 2, 'xmr': 3} 2.0277777777777777\n",
      "{'btc': 2, 'eth': 2, 'xmr': 3} 2\n",
      "{'btc': 2, 'eth': 2, 'xmr': 3} 2\n",
      "{'btc': 2, 'eth': 2, 'xmr': 3} 3\n",
      "{'btc': 2, 'eth': 2, 'xmr': 3} 3\n",
      "trade {'btc': 2.0555555555555554, 'eth': 2.2222222222222223, 'xmr': 2.25}\n",
      "self.weight {'btc': 0.16666666666666666, 'eth': 0.3333333333333333, 'xmr': -0.5}\n",
      "\n",
      "btc: 2.0555555555555554 + abs(1.199074074074074 - 2.0555555555555554) * 0.16666666666666666 \n",
      "btc: 2.0555555555555554 + 0.8564814814814814 * 0.16666666666666666 \n",
      "btc: 2.0555555555555554 + 0.14274691358024688\n",
      "btc: 2.198302469135802\n",
      "\n",
      "eth: 2.2222222222222223 + abs(2.962962962962963 - 2.2222222222222223) * 0.3333333333333333 \n",
      "eth: 2.2222222222222223 + 0.7407407407407405 * 0.3333333333333333 \n",
      "eth: 2.2222222222222223 + 0.24691358024691348\n",
      "eth: 2.4691358024691357\n",
      "\n",
      "xmr: 2.25 + abs(1.125 - 2.25) * -0.5 \n",
      "xmr: 2.25 + 1.125 * -0.5 \n",
      "xmr: 2.25 + -0.5625\n",
      "xmr: 1.6875\n",
      "negotiation {'btc': 2.198302469135802, 'eth': 2.4691358024691357, 'xmr': 1.6875}\n",
      "btc rate: 1.0277777777777777 v: 2.198302469135802 count: 2 () 1.099151234567901\n",
      "eth rate: 1.1111111111111112 v: 2.4691358024691357 count: 2 () 1.2345679012345678\n",
      "xmr rate: 0.75 v: 1.6875 count: 3 () 0.5625\n"
     ]
    },
    {
     "data": {
      "text/plain": [
       "\n",
       "users   [\n",
       "  credit    2.0277777777777777\n",
       "  vote      btc\n",
       "  against   1\n",
       "  trades    {}, \n",
       "  credit    2\n",
       "  vote      eth\n",
       "  against   1\n",
       "  trades    {}, \n",
       "  credit    3\n",
       "  vote      xmr\n",
       "  against   -1\n",
       "  trades    {}]\n",
       "assets  {'btc': 2, 'eth': 2, 'xmr': 3}\n",
       "rates   {'btc': 1.099151234567901, 'eth': 1.2345679012345678, 'xmr': 0.5625}\n",
       "mana    {'btc': 1, 'eth': 2, 'xmr': -3}\n",
       "weight  {'btc': 0.16666666666666666, 'eth': 0.3333333333333333, 'xmr': -0.5}\n",
       "value   {'btc': 2.198302469135802, 'eth': 2.4691358024691357, 'xmr': 1.6875}"
      ]
     },
     "execution_count": 6,
     "metadata": {},
     "output_type": "execute_result"
    }
   ],
   "source": [
    "users[0].trade('btc', 1)\n",
    "index.round()\n",
    "index"
   ]
  },
  {
   "cell_type": "code",
   "execution_count": 7,
   "metadata": {},
   "outputs": [
    {
     "data": {
      "text/plain": [
       "{'btc': 1.099151234567901, 'eth': 1.2345679012345678, 'xmr': 0.5625}"
      ]
     },
     "execution_count": 7,
     "metadata": {},
     "output_type": "execute_result"
    }
   ],
   "source": [
    "index.rates"
   ]
  },
  {
   "cell_type": "code",
   "execution_count": 8,
   "metadata": {},
   "outputs": [
    {
     "name": "stdout",
     "output_type": "stream",
     "text": [
      "ideal {'btc': 2.832595276435856, 'eth': 3.1718147660176643, 'xmr': 0.9671442687747035}\n",
      "{'btc': 2, 'eth': 2, 'xmr': 3} 2.0277777777777777\n",
      "{'btc': 2, 'eth': 2, 'xmr': 3} 2.0277777777777777\n",
      "{'btc': 2, 'eth': 2, 'xmr': 3} 2\n",
      "{'btc': 2, 'eth': 2, 'xmr': 3} 2\n",
      "{'btc': 2, 'eth': 2, 'xmr': 3} 3\n",
      "{'btc': 2, 'eth': 2, 'xmr': 1} 1.875\n",
      "trade {'btc': 2.198302469135802, 'eth': 2.4691358024691357, 'xmr': 0.5625}\n",
      "self.weight {'btc': 0.2885375494071146, 'eth': 0.2845849802371542, 'xmr': -0.42687747035573126}\n",
      "\n",
      "btc: 2.198302469135802 + abs(2.832595276435856 - 2.198302469135802) * 0.2885375494071146 \n",
      "btc: 2.198302469135802 + 0.6342928073000538 * 0.2885375494071146 \n",
      "btc: 2.198302469135802 + 0.1830172922249167\n",
      "btc: 2.381319761360719\n",
      "\n",
      "eth: 2.4691358024691357 + abs(3.1718147660176643 - 2.4691358024691357) * 0.2845849802371542 \n",
      "eth: 2.4691358024691357 + 0.7026789635485287 * 0.2845849802371542 \n",
      "eth: 2.4691358024691357 + 0.199971878954522\n",
      "eth: 2.669107681423658\n",
      "\n",
      "xmr: 0.5625 + abs(0.9671442687747035 - 0.5625) * -0.42687747035573126 \n",
      "xmr: 0.5625 + 0.4046442687747035 * -0.42687747035573126 \n",
      "xmr: 0.5625 + -0.17273352184849006\n",
      "xmr: 0.38976647815150994\n",
      "negotiation {'btc': 2.381319761360719, 'eth': 2.669107681423658, 'xmr': 0.38976647815150994}\n",
      "btc rate: 1.099151234567901 v: 2.381319761360719 count: 2 () 1.1906598806803594\n",
      "eth rate: 1.2345679012345678 v: 2.669107681423658 count: 2 () 1.334553840711829\n",
      "xmr rate: 0.5625 v: 0.38976647815150994 count: 1 () 0.38976647815150994\n"
     ]
    }
   ],
   "source": [
    "users[2].trade('xmr', -2)\n",
    "index.round()"
   ]
  },
  {
   "cell_type": "code",
   "execution_count": 9,
   "metadata": {},
   "outputs": [
    {
     "data": {
      "text/plain": [
       "\n",
       "users   [\n",
       "  credit    2.0277777777777777\n",
       "  vote      btc\n",
       "  against   1\n",
       "  trades    {}, \n",
       "  credit    2\n",
       "  vote      eth\n",
       "  against   1\n",
       "  trades    {}, \n",
       "  credit    1.875\n",
       "  vote      xmr\n",
       "  against   -1\n",
       "  trades    {}]\n",
       "assets  {'btc': 2, 'eth': 2, 'xmr': 1}\n",
       "rates   {'btc': 1.1906598806803594, 'eth': 1.334553840711829, 'xmr': 0.38976647815150994}\n",
       "mana    {'btc': 2.0277777777777777, 'eth': 2, 'xmr': -3}\n",
       "weight  {'btc': 0.2885375494071146, 'eth': 0.2845849802371542, 'xmr': -0.42687747035573126}\n",
       "value   {'btc': 2.381319761360719, 'eth': 2.669107681423658, 'xmr': 0.38976647815150994}"
      ]
     },
     "execution_count": 9,
     "metadata": {},
     "output_type": "execute_result"
    }
   ],
   "source": [
    "index"
   ]
  },
  {
   "cell_type": "code",
   "execution_count": 10,
   "metadata": {},
   "outputs": [
    {
     "name": "stdout",
     "output_type": "stream",
     "text": [
      "ideal {'btc': 3.1993731382046366, 'eth': 3.5734641664236735, 'xmr': 0.2659583027386774}\n",
      "{'btc': 2, 'eth': 2, 'xmr': 1} 2.0277777777777777\n",
      "{'btc': 2, 'eth': 2, 'xmr': 1} 2.0277777777777777\n",
      "{'btc': 2, 'eth': 2, 'xmr': 1} 2\n",
      "{'btc': 2, 'eth': 1, 'xmr': 1} 0.6654461592881711\n",
      "{'btc': 2, 'eth': 1, 'xmr': 1} 1.875\n",
      "{'btc': 2, 'eth': 1, 'xmr': 1} 1.875\n",
      "trade {'btc': 2.381319761360719, 'eth': 1.334553840711829, 'xmr': 0.38976647815150994}\n",
      "self.weight {'btc': 0.34352941176470586, 'eth': 0.3388235294117647, 'xmr': -0.3176470588235294}\n",
      "\n",
      "btc: 2.381319761360719 + abs(3.1993731382046366 - 2.381319761360719) * 0.34352941176470586 \n",
      "btc: 2.381319761360719 + 0.8180533768439178 * 0.34352941176470586 \n",
      "btc: 2.381319761360719 + 0.2810253953393223\n",
      "btc: 2.662345156700041\n",
      "\n",
      "eth: 1.334553840711829 + abs(3.5734641664236735 - 1.334553840711829) * 0.3388235294117647 \n",
      "eth: 1.334553840711829 + 2.238910325711845 * 0.3388235294117647 \n",
      "eth: 1.334553840711829 + 0.7585954985941309\n",
      "eth: 2.0931493393059597\n",
      "\n",
      "xmr: 0.38976647815150994 + abs(0.2659583027386774 - 0.38976647815150994) * -0.3176470588235294 \n",
      "xmr: 0.38976647815150994 + 0.12380817541283257 * -0.3176470588235294 \n",
      "xmr: 0.38976647815150994 + -0.03932730277819387\n",
      "xmr: 0.3504391753733161\n",
      "negotiation {'btc': 2.662345156700041, 'eth': 2.0931493393059597, 'xmr': 0.3504391753733161}\n",
      "btc rate: 1.1906598806803594 v: 2.662345156700041 count: 2 () 1.3311725783500206\n",
      "eth rate: 1.334553840711829 v: 2.0931493393059597 count: 1 () 2.0931493393059597\n",
      "xmr rate: 0.38976647815150994 v: 0.3504391753733161 count: 1 () 0.3504391753733161\n"
     ]
    }
   ],
   "source": [
    "users[1].trade('eth', -1)\n",
    "index.round()"
   ]
  },
  {
   "cell_type": "code",
   "execution_count": 11,
   "metadata": {},
   "outputs": [
    {
     "data": {
      "text/plain": [
       "\n",
       "users   [\n",
       "  credit    2.0277777777777777\n",
       "  vote      btc\n",
       "  against   1\n",
       "  trades    {}, \n",
       "  credit    0.6654461592881711\n",
       "  vote      eth\n",
       "  against   1\n",
       "  trades    {}, \n",
       "  credit    1.875\n",
       "  vote      xmr\n",
       "  against   -1\n",
       "  trades    {}]\n",
       "assets  {'btc': 2, 'eth': 1, 'xmr': 1}\n",
       "rates   {'btc': 1.3311725783500206, 'eth': 2.0931493393059597, 'xmr': 0.3504391753733161}\n",
       "mana    {'btc': 2.0277777777777777, 'eth': 2, 'xmr': -1.875}\n",
       "weight  {'btc': 0.34352941176470586, 'eth': 0.3388235294117647, 'xmr': -0.3176470588235294}\n",
       "value   {'btc': 2.662345156700041, 'eth': 2.0931493393059597, 'xmr': 0.3504391753733161}"
      ]
     },
     "execution_count": 11,
     "metadata": {},
     "output_type": "execute_result"
    }
   ],
   "source": [
    "index"
   ]
  },
  {
   "cell_type": "markdown",
   "metadata": {},
   "source": [
    "notes\n",
    "\n",
    "I'm not sure if this is what we want exactly. for instance, if we vote for btc up a little but, but injest way more than the ideal, that means the rate must go down, dispite having positive mana for that round, of course it would go down slightly less than it would have, if there were no mana, but still. I seem to have the images in my head of what should happen, but not implemented it correctly in the math of the code. perhaps I should just draw every situation out and have someone else figure out the math/code."
   ]
  },
  {
   "cell_type": "code",
   "execution_count": null,
   "metadata": {},
   "outputs": [],
   "source": []
  }
 ],
 "metadata": {
  "kernelspec": {
   "display_name": "Python 3",
   "language": "python",
   "name": "python3"
  },
  "language_info": {
   "codemirror_mode": {
    "name": "ipython",
    "version": 3
   },
   "file_extension": ".py",
   "mimetype": "text/x-python",
   "name": "python",
   "nbconvert_exporter": "python",
   "pygments_lexer": "ipython3",
   "version": "3.8.4"
  }
 },
 "nbformat": 4,
 "nbformat_minor": 4
}
